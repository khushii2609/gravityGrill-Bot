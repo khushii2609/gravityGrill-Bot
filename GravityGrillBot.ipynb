{
  "nbformat": 4,
  "nbformat_minor": 0,
  "metadata": {
    "colab": {
      "provenance": [],
      "authorship_tag": "ABX9TyMMQCLD2fDX+PMZxGvXgHo1",
      "include_colab_link": true
    },
    "kernelspec": {
      "name": "python3",
      "display_name": "Python 3"
    },
    "language_info": {
      "name": "python"
    }
  },
  "cells": [
    {
      "cell_type": "markdown",
      "metadata": {
        "id": "view-in-github",
        "colab_type": "text"
      },
      "source": [
        "<a href=\"https://colab.research.google.com/github/khushii2609/gravityGrill-Bot/blob/main/GravityGrillBot.ipynb\" target=\"_parent\"><img src=\"https://colab.research.google.com/assets/colab-badge.svg\" alt=\"Open In Colab\"/></a>"
      ]
    },
    {
      "cell_type": "code",
      "source": [
        "!pip install gradio"
      ],
      "metadata": {
        "id": "N9dtUh12l9Pd"
      },
      "execution_count": null,
      "outputs": []
    },
    {
      "cell_type": "code",
      "source": [
        "import gradio as gr"
      ],
      "metadata": {
        "id": "IsltQiYAmJm1"
      },
      "execution_count": 3,
      "outputs": []
    },
    {
      "cell_type": "code",
      "source": [
        "def get_info(name, day, info, price_range=None):\n",
        "    if day == \"Monday\":\n",
        "        time = \"10:00am to 10:00pm\"\n",
        "        dish = \"Spaghetti and Meatballs\"\n",
        "        menu = [\n",
        "            {\"name\": \"Caesar Salad\", \"price\": 9.99},\n",
        "            {\"name\": \"Margherita Pizza\", \"price\": 12.99},\n",
        "            {\"name\": \"Fettuccine Alfredo\", \"price\": 15.99},\n",
        "        ]\n",
        "    elif day == \"Tuesday\":\n",
        "        time = \"10:00am to 10:00pm\"\n",
        "        dish = \"Taco Salad\"\n",
        "        menu = [\n",
        "            {\"name\": \"Chips and Guacamole\", \"price\": 6.99},\n",
        "            {\"name\": \"Carnitas Tacos\", \"price\": 9.99},\n",
        "            {\"name\": \"Churros\", \"price\": 5.99},\n",
        "        ]\n",
        "    elif day == \"Wednesday\":\n",
        "        time = \"10:00am to 10:00pm\"\n",
        "        dish = \"Beef Stir Fry\"\n",
        "        menu = [\n",
        "            {\"name\": \"Spring Rolls\", \"price\": 7.99},\n",
        "            {\"name\": \"Pad Thai\", \"price\": 14.99},\n",
        "            {\"name\": \"Mango Sticky Rice\", \"price\": 8.99},\n",
        "        ]\n",
        "    elif day == \"Thursday\":\n",
        "        time = \"10:00am to 10:00pm\"\n",
        "        dish = \"Fish and Chips\"\n",
        "        menu = [\n",
        "            {\"name\": \"Clam Chowder\", \"price\": 6.99},\n",
        "            {\"name\": \"Lobster Roll\", \"price\": 18.99},\n",
        "            {\"name\": \"Boston Cream Pie\", \"price\": 7.99},\n",
        "        ]\n",
        "    elif day == \"Friday\":\n",
        "        time = \"10:00am to 11:00pm\"\n",
        "        dish = \"Grilled Cheese and Tomato Soup\"\n",
        "        menu = [\n",
        "            {\"name\": \"Fried Pickles\", \"price\": 5.99},\n",
        "            {\"name\": \"Lobster Mac and Cheese\", \"price\": 21.99},\n",
        "            {\"name\": \"Chocolate Chip Cookie\", \"price\": 4.99},\n",
        "        ]\n",
        "    elif day == \"Saturday\":\n",
        "        time = \"10:00am to 11:00pm\"\n",
        "        dish = \"BBQ Ribs\"\n",
        "        menu = [\n",
        "            {\"name\": \"Cornbread\", \"price\": 4.99},\n",
        "            {\"name\": \"Pulled Pork Sandwich\", \"price\": 12.99},\n",
        "            {\"name\": \"Sweet Potato Pie\", \"price\": 6.99},\n",
        "        ]\n",
        "    elif day == \"Sunday\":\n",
        "        time = \"10:00am to 11:00pm\"\n",
        "        dish = \"Roast Beef Dinner\"\n",
        "        menu = [\n",
        "            {\"name\": \"Butternut Squash Soup\", \"price\": 6.99},\n",
        "            {\"name\": \"Beef Wellington\", \"price\": 24.99},\n",
        "            {\"name\": \"Apple Pie\", \"price\": 8.99},\n",
        "        ]\n",
        "    else:\n",
        "        time = \"N/A\"\n",
        "        dish = \"N/A\"\n",
        "        menu = []\n",
        "\n",
        "    if price_range:\n",
        "        min_price, max_price = price_range.split(\"-\")\n",
        "        filtered_menu = [item for item in menu if item[\"price\"] >= float(min_price) and item[\"price\"] <= float(max_price)]\n",
        "        menu = filtered_menu\n",
        "    \n",
        "    if info.lower() == \"timings\":\n",
        "        output = f\"Hello {name}, the restaurant timings for {day} are {time}\"\n",
        "    elif info.lower() == \"menu\":\n",
        "        if price_range:\n",
        "            output = f\"Hello {name}, the restaurant's menu for {day} between {min_price} and {max_price} dollars is:\\n\"\n",
        "        else:\n",
        "            output = f\"Hello {name}, the restaurant's menu for {day} is:\\n\"\n",
        "        for item in menu:\n",
        "            output += f\"{item['name']} - ${item['price']}\\n\"\n",
        "    elif info.lower() == \"dish\":\n",
        "        output = f\"Hello {name}, the dish of the day for {day} is {dish}\"\n",
        "    else:\n",
        "        output = \"Please enter either 'timings', 'menu', or 'dish' to see the restaurant's timings, menu, or dish of the day.\"\n",
        "    \n",
        "    return output\n",
        "\n",
        "name_input = gr.inputs.Textbox(label=\"What is your name?\")\n",
        "day_input = gr.inputs.Dropdown([\"Monday\", \"Tuesday\", \"Wednesday\", \"Thursday\", \"Friday\", \"Saturday\", \"Sunday\"], label=\"What day of the week is it?\")\n",
        "info_input = gr.inputs.Radio([\"Timings\", \"Menu\", \"Dish\"], label=\"Do you want to see the timings, menu or dish of the day?\")\n",
        "price_input = gr.inputs.Textbox(label=\"Enter a price range to filter the menu (e.g. 10-15)\")\n",
        "\n",
        "outputs = [gr.outputs.Textbox(label=\"Output\")]\n",
        "\n",
        "interface = gr.Interface(fn=get_info, inputs=[name_input, day_input, info_input, price_input], outputs=outputs, title=\"Chat with Elon\", description=\"Elon is an amazing friend, it will help you get information about timings, menu, dish of the day and help you sort the dishes as per your budget.\")\n",
        "interface.launch()\n"
      ],
      "metadata": {
        "colab": {
          "base_uri": "https://localhost:8080/",
          "height": 844
        },
        "id": "_Nbya8I8mQHE",
        "outputId": "aa28f17c-f6d1-4a8f-c710-e0a5d107eb00"
      },
      "execution_count": 4,
      "outputs": [
        {
          "output_type": "stream",
          "name": "stderr",
          "text": [
            "/usr/local/lib/python3.8/dist-packages/gradio/inputs.py:27: UserWarning: Usage of gradio.inputs is deprecated, and will not be supported in the future, please import your component from gradio.components\n",
            "  warnings.warn(\n",
            "/usr/local/lib/python3.8/dist-packages/gradio/deprecation.py:40: UserWarning: `optional` parameter is deprecated, and it has no effect\n",
            "  warnings.warn(value)\n",
            "/usr/local/lib/python3.8/dist-packages/gradio/deprecation.py:40: UserWarning: `numeric` parameter is deprecated, and it has no effect\n",
            "  warnings.warn(value)\n",
            "/usr/local/lib/python3.8/dist-packages/gradio/inputs.py:217: UserWarning: Usage of gradio.inputs is deprecated, and will not be supported in the future, please import your component from gradio.components\n",
            "  warnings.warn(\n",
            "/usr/local/lib/python3.8/dist-packages/gradio/inputs.py:183: UserWarning: Usage of gradio.inputs is deprecated, and will not be supported in the future, please import your component from gradio.components\n",
            "  warnings.warn(\n",
            "/usr/local/lib/python3.8/dist-packages/gradio/outputs.py:22: UserWarning: Usage of gradio.outputs is deprecated, and will not be supported in the future, please import your components from gradio.components\n",
            "  warnings.warn(\n"
          ]
        },
        {
          "output_type": "stream",
          "name": "stdout",
          "text": [
            "Colab notebook detected. To show errors in colab notebook, set debug=True in launch()\n",
            "Note: opening Chrome Inspector may crash demo inside Colab notebooks.\n",
            "\n",
            "To create a public link, set `share=True` in `launch()`.\n"
          ]
        },
        {
          "output_type": "display_data",
          "data": {
            "text/plain": [
              "<IPython.core.display.Javascript object>"
            ],
            "application/javascript": [
              "(async (port, path, width, height, cache, element) => {\n",
              "                        if (!google.colab.kernel.accessAllowed && !cache) {\n",
              "                            return;\n",
              "                        }\n",
              "                        element.appendChild(document.createTextNode(''));\n",
              "                        const url = await google.colab.kernel.proxyPort(port, {cache});\n",
              "\n",
              "                        const external_link = document.createElement('div');\n",
              "                        external_link.innerHTML = `\n",
              "                            <div style=\"font-family: monospace; margin-bottom: 0.5rem\">\n",
              "                                Running on <a href=${new URL(path, url).toString()} target=\"_blank\">\n",
              "                                    https://localhost:${port}${path}\n",
              "                                </a>\n",
              "                            </div>\n",
              "                        `;\n",
              "                        element.appendChild(external_link);\n",
              "\n",
              "                        const iframe = document.createElement('iframe');\n",
              "                        iframe.src = new URL(path, url).toString();\n",
              "                        iframe.height = height;\n",
              "                        iframe.allow = \"autoplay; camera; microphone; clipboard-read; clipboard-write;\"\n",
              "                        iframe.width = width;\n",
              "                        iframe.style.border = 0;\n",
              "                        element.appendChild(iframe);\n",
              "                    })(7860, \"/\", \"100%\", 500, false, window.element)"
            ]
          },
          "metadata": {}
        },
        {
          "output_type": "execute_result",
          "data": {
            "text/plain": []
          },
          "metadata": {},
          "execution_count": 4
        }
      ]
    }
  ]
}